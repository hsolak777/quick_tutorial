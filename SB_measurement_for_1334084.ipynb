{
 "cells": [
  {
   "cell_type": "code",
   "execution_count": 24,
   "metadata": {},
   "outputs": [],
   "source": [
    "# initial imports\n",
    "import numpy as np\n",
    "import pylab as plt\n",
    "import os\n",
    "from astropy.io import fits\n",
    "from astropy.coordinates import SkyCoord\n",
    "import astropy.units as u\n",
    "from photutils import CircularAperture,SkyEllipticalAperture,aperture_photometry,EllipticalAnnulus\n",
    "from photutils.utils import calc_total_error\n",
    "from astropy.coordinates import SkyCoord\n",
    "from astropy.stats import sigma_clipped_stats\n",
    "from astropy import wcs\n",
    "import glob\n",
    "import cosmo\n",
    "import math"
   ]
  },
  {
   "cell_type": "code",
   "execution_count": 25,
   "metadata": {},
   "outputs": [],
   "source": [
    "snid = '1334084'\n",
    "ra = 41.734005\n",
    "dec = -0.690615"
   ]
  },
  {
   "cell_type": "code",
   "execution_count": 26,
   "metadata": {},
   "outputs": [
    {
     "name": "stdout",
     "output_type": "stream",
     "text": [
      "/Users/hsolak/Desktop/DESJ024656.2-004126.2_g.fits\n"
     ]
    },
    {
     "name": "stderr",
     "output_type": "stream",
     "text": [
      "WARNING: FITSFixedWarning: 'datfix' made the change 'Set DATE-OBS to '2013-09-10T09:13:27.483' from MJD-OBS'. [astropy.wcs.wcs]\n"
     ]
    }
   ],
   "source": [
    "files = ['/Users/hsolak/Desktop/DESJ024656.2-004126.2_g.fits']\n",
    "\n",
    "# for each image, get obs filter and image coordinates for the SN\n",
    "filters,xpos,ypos = [],[],[]\n",
    "for f in files:\n",
    "    print(f)\n",
    "    header = fits.getheader(f)\n",
    "    filters += [header['BAND']]  # changed this from [fits.getval(f,'FPA.FILTER').split('.')[0]] because it gave an error\n",
    "    ps1_wcs = wcs.WCS(fits.getheader(f))\n",
    "    snx,sny = ps1_wcs.wcs_world2pix([(ra,dec)],0)[0]\n",
    "    xpos += [snx]; ypos += [sny]"
   ]
  },
  {
   "cell_type": "code",
   "execution_count": 27,
   "metadata": {},
   "outputs": [],
   "source": [
    "apr_arcsec = 1 #(~1 FWHM)\n",
    "# arcsec to number of PS1 pixels (0.25 arcsec/pix)\n",
    "apr_pix = apr_arcsec/0.25"
   ]
  },
  {
   "cell_type": "code",
   "execution_count": 28,
   "metadata": {},
   "outputs": [],
   "source": [
    "## routine for doing the aperture photometry\n",
    "## note that no sky subtraction is done because PS1 images should already be sky-subtracted\n",
    "def doAperPhot(xpos,ypos,image,exptime,zpt,aprad,errorim=[],unit='counts/sec'):\n",
    "\n",
    "    if type(xpos) == np.ndarray:\n",
    "        positions = [(x,y) for x,y in zip(xpos,ypos)]\n",
    "    else:\n",
    "        positions = [(xpos,ypos)]\n",
    "\n",
    "    if not len(errorim):\n",
    "        # get the uncertainty from the sky standard deviation, sigma-clipped STD\n",
    "        avg,sky,skystd = sigma_clipped_stats(\n",
    "            image[(image != 0)],\n",
    "            sigma=3.0)\n",
    "\n",
    "    ap = CircularAperture(positions,r=aprad)\n",
    "\n",
    "    # this is a big weird, but part of checking if aperture extends beyond image\n",
    "    apermask = ap.to_mask(method='exact')[0]\n",
    "    imshape = np.shape(image)\n",
    "    apermask_full = apermask.to_image(imshape)\n",
    "    apermask_cols = np.where(apermask_full > 0)\n",
    "    if apermask.bbox.ixmin < 0 or apermask.bbox.iymin < 0 or \\\n",
    "       apermask.bbox.ixmax > imshape[1]-1 or apermask.bbox.iymax > imshape[0]-1:\n",
    "        print('Error : aperture extends outside the image!!')\n",
    "        if type(xpos) == np.ndarray:\n",
    "            return(np.array([np.nan]*len(xpos)),np.array([np.nan]*len(xpos)),np.array([np.nan]*len(xpos)),\n",
    "                   np.array([np.nan]*len(xpos)),np.array([1]*len(xpos)))\n",
    "        else:\n",
    "            return(np.nan,np.nan,np.nan,np.nan,1)\n",
    "    try:\n",
    "        apOutsideImageCols = np.where((apermask_cols[0] == 0) | (apermask_cols[1] == 0) |\n",
    "                                      (apermask_cols[0] == imshape[0]-1) | (apermask_cols[1] == imshape[1]-1))[0]\n",
    "    except:\n",
    "        import pdb; pdb.set_trace()\n",
    "\n",
    "    # check if aperture extends outside the image\n",
    "    if len(apOutsideImageCols):\n",
    "        print('Error : aperture extends outside the image!!')\n",
    "        if type(xpos) == np.ndarray:\n",
    "            return(np.array([np.nan]*len(xpos)),np.array([np.nan]*len(xpos)),\n",
    "                   np.array([sky]*len(xpos)),np.array([np.nan]*len(xpos)),np.array([1]*len(xpos)))\n",
    "        else:\n",
    "            return(np.nan,np.nan,sky,np.nan,1)\n",
    "\n",
    "    if len(errorim):\n",
    "        phot_table = aperture_photometry(image, ap, error=errorim)\n",
    "    else:\n",
    "        # calc error from sky standard deviation and image data (poisson noise & sky std)\n",
    "        if unit == 'counts/sec':\n",
    "            err = calc_total_error(image, skystd, exptime)\n",
    "        else:\n",
    "            err = calc_total_error(image, skystd, 1.0)\n",
    "        phot_table = aperture_photometry(image, ap, error=err)\n",
    "\n",
    "    if type(xpos) == np.ndarray:\n",
    "        flux = phot_table['aperture_sum']\t\n",
    "        fluxerr = phot_table['aperture_sum_err']#**2.#+ skystd**2./ellap.area() )\n",
    "    else:\n",
    "        flux = phot_table['aperture_sum'][0]\t\n",
    "        fluxerr = phot_table['aperture_sum_err'][0]#**2.#+ skystd**2./ellap.area() )\n",
    "\n",
    "    mag = -2.5*np.log10(flux) + zpt\n",
    "    magerr = 2.5/np.log(10)*fluxerr/flux\n",
    "\n",
    "    return(mag,magerr,flux,fluxerr,0)"
   ]
  },
  {
   "cell_type": "code",
   "execution_count": 29,
   "metadata": {},
   "outputs": [
    {
     "name": "stdout",
     "output_type": "stream",
     "text": [
      "g flux = 293.2520992494893\n",
      "g sb = 21.331897175744583\n"
     ]
    }
   ],
   "source": [
    "## let's do some aperture photometry!\n",
    "for f,x,y,flt in zip(files,xpos,ypos,filters):\n",
    "        image = fits.getdata(f)\n",
    "        header = fits.getheader(f)\n",
    "        dr1_zpt = header['MAGZERO']\n",
    "        zpt = 10**(-0.4*(dr1_zpt-27.5))\n",
    "        #print('ps1-zpt',ps1_zpt)\n",
    "        #print(zpt)\n",
    "        # PS1 zeropoints are set to 25 + 2.5*log10(exptime)\n",
    "        mag,magerr,flux,fluxerr,badflag = \\\n",
    "            doAperPhot(x,y,image,header['EXPTIME'],dr1_zpt,\n",
    "                       apr_pix,unit='counts')\n",
    "        # wikipedia says surface brightness is mag + 2.5*np.log10(area)\n",
    "        sb = mag + 2.5*np.log10(np.pi*apr_arcsec**2.)\n",
    "        flux = flux * zpt / math.pi\n",
    "        fluxerr = fluxerr * zpt / math.pi\n",
    "        \n",
    "        if flt == 'g':\n",
    "            print('g flux =',flux)\n",
    "            print('g sb =',sb)"
   ]
  },
  {
   "cell_type": "code",
   "execution_count": 30,
   "metadata": {},
   "outputs": [
    {
     "data": {
      "text/plain": [
       "-0.28239873811932625"
      ]
     },
     "execution_count": 30,
     "metadata": {},
     "output_type": "execute_result"
    }
   ],
   "source": [
    "# From the measurements file:\n",
    "# 1334084 41.734005 -0.690615 186.36 226.0901460804622 21.61429591386391 0.012031912404473159\n",
    "# sb = 21.61429591386391\n",
    "\n",
    "21.331897175744583 - 21.61429591386391"
   ]
  },
  {
   "cell_type": "code",
   "execution_count": null,
   "metadata": {},
   "outputs": [],
   "source": []
  }
 ],
 "metadata": {
  "kernelspec": {
   "display_name": "Python 3",
   "language": "python",
   "name": "python3"
  },
  "language_info": {
   "codemirror_mode": {
    "name": "ipython",
    "version": 3
   },
   "file_extension": ".py",
   "mimetype": "text/x-python",
   "name": "python",
   "nbconvert_exporter": "python",
   "pygments_lexer": "ipython3",
   "version": "3.7.4"
  }
 },
 "nbformat": 4,
 "nbformat_minor": 2
}
